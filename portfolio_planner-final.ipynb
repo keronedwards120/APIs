{
 "cells": [
  {
   "cell_type": "code",
   "execution_count": 22,
   "metadata": {},
   "outputs": [],
   "source": [
    "import numpy as np\n",
    "import pandas as pd\n",
    "from datetime import datetime, timedelta\n",
    "import matplotlib.pyplot as plt\n",
    "%matplotlib inline"
   ]
  },
  {
   "cell_type": "code",
   "execution_count": 23,
   "metadata": {},
   "outputs": [],
   "source": [
    "np.random.seed(42)"
   ]
  },
  {
   "cell_type": "markdown",
   "metadata": {},
   "source": [
    "# Portfolio Planner\n",
    "\n",
    "In this activity, you will use the iedfinance api to grab historical data for a 60/40 portfolio using `SPY` to represent the stock portion and `AGG` to represent the bonds."
   ]
  },
  {
   "cell_type": "code",
   "execution_count": 24,
   "metadata": {},
   "outputs": [],
   "source": [
    "from iexfinance.stocks import get_historical_data\n",
    "import iexfinance as iex\n",
    "from iexfinance.refdata import get_symbols"
   ]
  },
  {
   "cell_type": "markdown",
   "metadata": {},
   "source": [
    "# Data Collection\n",
    "\n",
    "In this step, you will need to use the IEX api to fetch closing prices for the `SPY` and `AGG` tickers. Save the results as a pandas DataFrame"
   ]
  },
  {
   "cell_type": "code",
   "execution_count": 25,
   "metadata": {},
   "outputs": [
    {
     "data": {
      "text/html": [
       "<div>\n",
       "<style scoped>\n",
       "    .dataframe tbody tr th:only-of-type {\n",
       "        vertical-align: middle;\n",
       "    }\n",
       "\n",
       "    .dataframe tbody tr th {\n",
       "        vertical-align: top;\n",
       "    }\n",
       "\n",
       "    .dataframe thead th {\n",
       "        text-align: right;\n",
       "    }\n",
       "</style>\n",
       "<table border=\"1\" class=\"dataframe\">\n",
       "  <thead>\n",
       "    <tr style=\"text-align: right;\">\n",
       "      <th></th>\n",
       "      <th>SPY</th>\n",
       "      <th>AGG</th>\n",
       "    </tr>\n",
       "    <tr>\n",
       "      <th>date</th>\n",
       "      <th></th>\n",
       "      <th></th>\n",
       "    </tr>\n",
       "  </thead>\n",
       "  <tbody>\n",
       "    <tr>\n",
       "      <th>2018-10-02</th>\n",
       "      <td>291.56</td>\n",
       "      <td>105.36</td>\n",
       "    </tr>\n",
       "    <tr>\n",
       "      <th>2018-10-03</th>\n",
       "      <td>291.72</td>\n",
       "      <td>104.86</td>\n",
       "    </tr>\n",
       "    <tr>\n",
       "      <th>2018-10-04</th>\n",
       "      <td>289.44</td>\n",
       "      <td>104.56</td>\n",
       "    </tr>\n",
       "    <tr>\n",
       "      <th>2018-10-05</th>\n",
       "      <td>287.82</td>\n",
       "      <td>104.33</td>\n",
       "    </tr>\n",
       "    <tr>\n",
       "      <th>2018-10-08</th>\n",
       "      <td>287.82</td>\n",
       "      <td>104.29</td>\n",
       "    </tr>\n",
       "  </tbody>\n",
       "</table>\n",
       "</div>"
      ],
      "text/plain": [
       "               SPY     AGG\n",
       "date                      \n",
       "2018-10-02  291.56  105.36\n",
       "2018-10-03  291.72  104.86\n",
       "2018-10-04  289.44  104.56\n",
       "2018-10-05  287.82  104.33\n",
       "2018-10-08  287.82  104.29"
      ]
     },
     "execution_count": 25,
     "metadata": {},
     "output_type": "execute_result"
    }
   ],
   "source": [
    "list_of_tickers = [\"SPY\", \"AGG\"]\n",
    "# YOUR CODE HERE\n",
    "Ticker_1 = \"SPY\"\n",
    "Ticker_2 = \"AGG\"\n",
    "end_date = datetime.now()\n",
    "start_date = end_date + timedelta(-365)\n",
    "df_spy = get_historical_data(Ticker_1, start_date, end_date, output_format='pandas')\n",
    "df_agg = get_historical_data(Ticker_2, start_date, end_date, output_format='pandas')\n",
    "df_spy_1= df_spy.drop(columns=['open','high','low','volume'])\n",
    "df_spy_2 = df_spy_1.rename(columns={\"close\": \"SPY\"})\n",
    "df_agg_1=df_agg.drop(columns=['open','high','low','volume'])\n",
    "df_agg_2 = df_agg_1.rename(columns={\"close\": \"AGG\"})\n",
    "combined_df = pd.concat([df_spy_2, df_agg_2], axis = \"columns\", join = \"inner\")\n",
    "combined_df.head()"
   ]
  },
  {
   "cell_type": "markdown",
   "metadata": {},
   "source": [
    "# Monte Carlo Simulation\n",
    "\n",
    "In this step, you will run Monte Carlo Simulations for your portfolio to model portfolio performance at different retirement ages. \n",
    "\n",
    "Complete the following steps:\n",
    "1. Calculate the daily returns for the SPY and AGG closing prices.\n",
    "2. Calculate volatility for both the SPY and AGG closing prices.\n",
    "3. Find the last day's closing price for both stocks and save those as variables.\n",
    "4. Run a Monte Carlo Simulation of at least 100 iterations and generate at least 20 years of closing prices\n",
    "\n",
    "### HINTS:\n",
    "There are 252 trading days per year, so the number of records to generate for each Monte Carlo run will be 252 days * 20 years"
   ]
  },
  {
   "cell_type": "code",
   "execution_count": 26,
   "metadata": {},
   "outputs": [
    {
     "data": {
      "text/html": [
       "<div>\n",
       "<style scoped>\n",
       "    .dataframe tbody tr th:only-of-type {\n",
       "        vertical-align: middle;\n",
       "    }\n",
       "\n",
       "    .dataframe tbody tr th {\n",
       "        vertical-align: top;\n",
       "    }\n",
       "\n",
       "    .dataframe thead th {\n",
       "        text-align: right;\n",
       "    }\n",
       "</style>\n",
       "<table border=\"1\" class=\"dataframe\">\n",
       "  <thead>\n",
       "    <tr style=\"text-align: right;\">\n",
       "      <th></th>\n",
       "      <th>SPY</th>\n",
       "      <th>AGG</th>\n",
       "    </tr>\n",
       "    <tr>\n",
       "      <th>date</th>\n",
       "      <th></th>\n",
       "      <th></th>\n",
       "    </tr>\n",
       "  </thead>\n",
       "  <tbody>\n",
       "    <tr>\n",
       "      <th>2018-10-02</th>\n",
       "      <td>NaN</td>\n",
       "      <td>NaN</td>\n",
       "    </tr>\n",
       "    <tr>\n",
       "      <th>2018-10-03</th>\n",
       "      <td>0.000549</td>\n",
       "      <td>-0.004746</td>\n",
       "    </tr>\n",
       "    <tr>\n",
       "      <th>2018-10-04</th>\n",
       "      <td>-0.007816</td>\n",
       "      <td>-0.002861</td>\n",
       "    </tr>\n",
       "    <tr>\n",
       "      <th>2018-10-05</th>\n",
       "      <td>-0.005597</td>\n",
       "      <td>-0.002200</td>\n",
       "    </tr>\n",
       "    <tr>\n",
       "      <th>2018-10-08</th>\n",
       "      <td>0.000000</td>\n",
       "      <td>-0.000383</td>\n",
       "    </tr>\n",
       "  </tbody>\n",
       "</table>\n",
       "</div>"
      ],
      "text/plain": [
       "                 SPY       AGG\n",
       "date                          \n",
       "2018-10-02       NaN       NaN\n",
       "2018-10-03  0.000549 -0.004746\n",
       "2018-10-04 -0.007816 -0.002861\n",
       "2018-10-05 -0.005597 -0.002200\n",
       "2018-10-08  0.000000 -0.000383"
      ]
     },
     "execution_count": 26,
     "metadata": {},
     "output_type": "execute_result"
    }
   ],
   "source": [
    "# Calculate the daily roi for the stocks\n",
    "# YOUR CODE HERE\n",
    "daily_returns = combined_df.pct_change()\n",
    "daily_returns.head()"
   ]
  },
  {
   "cell_type": "code",
   "execution_count": 27,
   "metadata": {},
   "outputs": [
    {
     "data": {
      "text/plain": [
       "SPY    0.010645\n",
       "AGG    0.001959\n",
       "dtype: float64"
      ]
     },
     "execution_count": 27,
     "metadata": {},
     "output_type": "execute_result"
    }
   ],
   "source": [
    "# Calculate volatility\n",
    "# YOUR CODE \n",
    "std_dev_daily_return = daily_returns.std()\n",
    "std_dev_daily_return"
   ]
  },
  {
   "cell_type": "code",
   "execution_count": 28,
   "metadata": {},
   "outputs": [
    {
     "data": {
      "text/plain": [
       "SPY    0.000079\n",
       "AGG    0.000286\n",
       "dtype: float64"
      ]
     },
     "execution_count": 28,
     "metadata": {},
     "output_type": "execute_result"
    }
   ],
   "source": [
    "avg_daily_return = daily_returns.mean()\n",
    "avg_daily_return"
   ]
  },
  {
   "cell_type": "code",
   "execution_count": 29,
   "metadata": {},
   "outputs": [
    {
     "data": {
      "text/plain": [
       "293.24"
      ]
     },
     "execution_count": 29,
     "metadata": {},
     "output_type": "execute_result"
    }
   ],
   "source": [
    "# Save the last day's closing price\n",
    "# YOUR CODE HERE\n",
    "num_trading = 252\n",
    "SPY_last_price = combined_df['SPY'][-1]\n",
    "AGG_last_price = combined_df['AGG'][-1]\n",
    "SPY_last_price"
   ]
  },
  {
   "cell_type": "code",
   "execution_count": 32,
   "metadata": {},
   "outputs": [
    {
     "data": {
      "text/html": [
       "<div>\n",
       "<style scoped>\n",
       "    .dataframe tbody tr th:only-of-type {\n",
       "        vertical-align: middle;\n",
       "    }\n",
       "\n",
       "    .dataframe tbody tr th {\n",
       "        vertical-align: top;\n",
       "    }\n",
       "\n",
       "    .dataframe thead th {\n",
       "        text-align: right;\n",
       "    }\n",
       "</style>\n",
       "<table border=\"1\" class=\"dataframe\">\n",
       "  <thead>\n",
       "    <tr style=\"text-align: right;\">\n",
       "      <th></th>\n",
       "    </tr>\n",
       "  </thead>\n",
       "  <tbody>\n",
       "  </tbody>\n",
       "</table>\n",
       "</div>"
      ],
      "text/plain": [
       "Empty DataFrame\n",
       "Columns: []\n",
       "Index: []"
      ]
     },
     "execution_count": 32,
     "metadata": {},
     "output_type": "execute_result"
    }
   ],
   "source": [
    "# Setup the Monte Carlo Parameters\n",
    "number_simulations = 500\n",
    "number_records = 252 * 30\n",
    "monte_carlo = pd.DataFrame()\n",
    "simulated_price_df = pd.DataFrame()\n",
    "simulated_price_df"
   ]
  },
  {
   "cell_type": "code",
   "execution_count": 37,
   "metadata": {},
   "outputs": [
    {
     "data": {
      "text/html": [
       "<div>\n",
       "<style scoped>\n",
       "    .dataframe tbody tr th:only-of-type {\n",
       "        vertical-align: middle;\n",
       "    }\n",
       "\n",
       "    .dataframe tbody tr th {\n",
       "        vertical-align: top;\n",
       "    }\n",
       "\n",
       "    .dataframe thead th {\n",
       "        text-align: right;\n",
       "    }\n",
       "</style>\n",
       "<table border=\"1\" class=\"dataframe\">\n",
       "  <thead>\n",
       "    <tr style=\"text-align: right;\">\n",
       "      <th></th>\n",
       "      <th>0</th>\n",
       "      <th>1</th>\n",
       "      <th>2</th>\n",
       "      <th>3</th>\n",
       "      <th>4</th>\n",
       "      <th>5</th>\n",
       "      <th>6</th>\n",
       "      <th>7</th>\n",
       "      <th>8</th>\n",
       "      <th>9</th>\n",
       "      <th>...</th>\n",
       "      <th>490</th>\n",
       "      <th>491</th>\n",
       "      <th>492</th>\n",
       "      <th>493</th>\n",
       "      <th>494</th>\n",
       "      <th>495</th>\n",
       "      <th>496</th>\n",
       "      <th>497</th>\n",
       "      <th>498</th>\n",
       "      <th>499</th>\n",
       "    </tr>\n",
       "  </thead>\n",
       "  <tbody>\n",
       "    <tr>\n",
       "      <th>0</th>\n",
       "      <td>1.000000</td>\n",
       "      <td>1.000000</td>\n",
       "      <td>1.000000</td>\n",
       "      <td>1.000000</td>\n",
       "      <td>1.000000</td>\n",
       "      <td>1.000000</td>\n",
       "      <td>1.000000</td>\n",
       "      <td>1.000000</td>\n",
       "      <td>1.000000</td>\n",
       "      <td>1.000000</td>\n",
       "      <td>...</td>\n",
       "      <td>1.000000</td>\n",
       "      <td>1.000000</td>\n",
       "      <td>1.000000</td>\n",
       "      <td>1.000000</td>\n",
       "      <td>1.000000</td>\n",
       "      <td>1.000000</td>\n",
       "      <td>1.000000</td>\n",
       "      <td>1.000000</td>\n",
       "      <td>1.000000</td>\n",
       "      <td>1.000000</td>\n",
       "    </tr>\n",
       "    <tr>\n",
       "      <th>1</th>\n",
       "      <td>0.999469</td>\n",
       "      <td>0.987349</td>\n",
       "      <td>0.999542</td>\n",
       "      <td>1.005172</td>\n",
       "      <td>0.996203</td>\n",
       "      <td>1.005697</td>\n",
       "      <td>1.006878</td>\n",
       "      <td>1.005178</td>\n",
       "      <td>0.995522</td>\n",
       "      <td>1.009361</td>\n",
       "      <td>...</td>\n",
       "      <td>1.000325</td>\n",
       "      <td>0.998834</td>\n",
       "      <td>0.997882</td>\n",
       "      <td>1.005718</td>\n",
       "      <td>1.006269</td>\n",
       "      <td>0.995991</td>\n",
       "      <td>1.004199</td>\n",
       "      <td>1.005511</td>\n",
       "      <td>1.001215</td>\n",
       "      <td>1.004106</td>\n",
       "    </tr>\n",
       "    <tr>\n",
       "      <th>2</th>\n",
       "      <td>1.005616</td>\n",
       "      <td>0.989797</td>\n",
       "      <td>0.998720</td>\n",
       "      <td>1.008385</td>\n",
       "      <td>1.001146</td>\n",
       "      <td>1.008515</td>\n",
       "      <td>1.011403</td>\n",
       "      <td>1.002727</td>\n",
       "      <td>0.990949</td>\n",
       "      <td>1.007280</td>\n",
       "      <td>...</td>\n",
       "      <td>1.010534</td>\n",
       "      <td>1.002299</td>\n",
       "      <td>0.995646</td>\n",
       "      <td>0.995045</td>\n",
       "      <td>1.018014</td>\n",
       "      <td>1.007830</td>\n",
       "      <td>1.003225</td>\n",
       "      <td>0.993517</td>\n",
       "      <td>0.997294</td>\n",
       "      <td>0.999111</td>\n",
       "    </tr>\n",
       "    <tr>\n",
       "      <th>3</th>\n",
       "      <td>1.006630</td>\n",
       "      <td>0.979904</td>\n",
       "      <td>1.001035</td>\n",
       "      <td>1.014734</td>\n",
       "      <td>1.004367</td>\n",
       "      <td>1.005980</td>\n",
       "      <td>1.023162</td>\n",
       "      <td>1.009974</td>\n",
       "      <td>0.997053</td>\n",
       "      <td>1.008779</td>\n",
       "      <td>...</td>\n",
       "      <td>1.008221</td>\n",
       "      <td>0.997243</td>\n",
       "      <td>0.996681</td>\n",
       "      <td>1.008936</td>\n",
       "      <td>1.013106</td>\n",
       "      <td>1.010891</td>\n",
       "      <td>1.000951</td>\n",
       "      <td>1.007923</td>\n",
       "      <td>0.988679</td>\n",
       "      <td>0.994747</td>\n",
       "    </tr>\n",
       "    <tr>\n",
       "      <th>4</th>\n",
       "      <td>1.012734</td>\n",
       "      <td>0.980953</td>\n",
       "      <td>0.994028</td>\n",
       "      <td>1.013807</td>\n",
       "      <td>1.005828</td>\n",
       "      <td>1.007171</td>\n",
       "      <td>1.021519</td>\n",
       "      <td>1.014738</td>\n",
       "      <td>0.995609</td>\n",
       "      <td>1.010992</td>\n",
       "      <td>...</td>\n",
       "      <td>1.012882</td>\n",
       "      <td>1.005622</td>\n",
       "      <td>0.996971</td>\n",
       "      <td>1.011624</td>\n",
       "      <td>1.016952</td>\n",
       "      <td>1.015783</td>\n",
       "      <td>1.002514</td>\n",
       "      <td>1.008376</td>\n",
       "      <td>0.984852</td>\n",
       "      <td>0.994697</td>\n",
       "    </tr>\n",
       "  </tbody>\n",
       "</table>\n",
       "<p>5 rows × 500 columns</p>\n",
       "</div>"
      ],
      "text/plain": [
       "        0         1         2         3         4         5         6    \\\n",
       "0  1.000000  1.000000  1.000000  1.000000  1.000000  1.000000  1.000000   \n",
       "1  0.999469  0.987349  0.999542  1.005172  0.996203  1.005697  1.006878   \n",
       "2  1.005616  0.989797  0.998720  1.008385  1.001146  1.008515  1.011403   \n",
       "3  1.006630  0.979904  1.001035  1.014734  1.004367  1.005980  1.023162   \n",
       "4  1.012734  0.980953  0.994028  1.013807  1.005828  1.007171  1.021519   \n",
       "\n",
       "        7         8         9    ...       490       491       492       493  \\\n",
       "0  1.000000  1.000000  1.000000  ...  1.000000  1.000000  1.000000  1.000000   \n",
       "1  1.005178  0.995522  1.009361  ...  1.000325  0.998834  0.997882  1.005718   \n",
       "2  1.002727  0.990949  1.007280  ...  1.010534  1.002299  0.995646  0.995045   \n",
       "3  1.009974  0.997053  1.008779  ...  1.008221  0.997243  0.996681  1.008936   \n",
       "4  1.014738  0.995609  1.010992  ...  1.012882  1.005622  0.996971  1.011624   \n",
       "\n",
       "        494       495       496       497       498       499  \n",
       "0  1.000000  1.000000  1.000000  1.000000  1.000000  1.000000  \n",
       "1  1.006269  0.995991  1.004199  1.005511  1.001215  1.004106  \n",
       "2  1.018014  1.007830  1.003225  0.993517  0.997294  0.999111  \n",
       "3  1.013106  1.010891  1.000951  1.007923  0.988679  0.994747  \n",
       "4  1.016952  1.015783  1.002514  1.008376  0.984852  0.994697  \n",
       "\n",
       "[5 rows x 500 columns]"
      ]
     },
     "execution_count": 37,
     "metadata": {},
     "output_type": "execute_result"
    }
   ],
   "source": [
    "# Run the Monte Carlo Simulation\n",
    "   # YOUR CODE HERE\n",
    "for x in range(number_simulations):\n",
    "    simulated_SPY_prices = [SPY_last_price]\n",
    "    simulated_AGG_prices = [AGG_last_price]\n",
    "   \n",
    "    for i in range(number_records):\n",
    "        simulated_price_SPY = simulated_SPY_prices[-1] * (1 + np.random.normal(avg_daily_return['SPY'], std_dev_daily_return['SPY']))\n",
    "        simulated_price_AGG = simulated_AGG_prices[-1] * (1 + np.random.normal(avg_daily_return['AGG'], std_dev_daily_return['AGG']))\n",
    "        \n",
    "        simulated_SPY_prices.append(simulated_price_SPY)\n",
    "        simulated_AGG_prices.append(simulated_price_AGG)\n",
    "    \n",
    "    simulated_price_df[\"SPY prices\"] = pd.Series(simulated_SPY_prices)\n",
    "    simulated_price_df[\"AGG prices\"] = pd.Series(simulated_AGG_prices)\n",
    "    \n",
    "    combined_simulated_prices = pd.concat([simulated_price_df[\"SPY prices\"], simulated_price_df[\"AGG prices\"]], axis = \"columns\", join = \"inner\")\n",
    "\n",
    "    #Calculate the daily returns of simulated prices\n",
    "    simulated_daily_returns = combined_simulated_prices.pct_change()\n",
    "\n",
    "    # Set the portfolio weights (60% SPY; 40% AGG)\n",
    "    weights = [0.60, 0.40]\n",
    "\n",
    "    # Use the dot function with the weights to multiply weights with each column's simulated daily returns\n",
    "    portfolio_daily_returns = simulated_daily_returns.dot(weights)\n",
    "\n",
    "    # Calculate the normalized, cumulative return series\n",
    "    monte_carlo[x] = (1 + portfolio_daily_returns.fillna(0)).cumprod()\n",
    "\n",
    "monte_carlo.head()"
   ]
  },
  {
   "cell_type": "code",
   "execution_count": 38,
   "metadata": {
    "scrolled": true
   },
   "outputs": [
    {
     "data": {
      "text/plain": [
       "<matplotlib.axes._subplots.AxesSubplot at 0x27d38a53be0>"
      ]
     },
     "execution_count": 38,
     "metadata": {},
     "output_type": "execute_result"
    },
    {
     "data": {
      "image/png": "[encoded data removed]",
      "text/plain": [
       "<Figure size 432x288 with 1 Axes>"
      ]
     },
     "metadata": {
      "needs_background": "light"
     },
     "output_type": "display_data"
    }
   ],
   "source": [
    "# Visualize the Simulation\n",
    "# YOUR CODE HERE\n",
    "plot_title = f\"{x+1} Simulations of SPY & AGG Portfolio\"\n",
    "monte_carlo.plot(legend=None, title=plot_title)"
   ]
  },
  {
   "cell_type": "code",
   "execution_count": 52,
   "metadata": {},
   "outputs": [
    {
     "data": {
      "text/html": [
       "<div>\n",
       "<style scoped>\n",
       "    .dataframe tbody tr th:only-of-type {\n",
       "        vertical-align: middle;\n",
       "    }\n",
       "\n",
       "    .dataframe tbody tr th {\n",
       "        vertical-align: top;\n",
       "    }\n",
       "\n",
       "    .dataframe thead th {\n",
       "        text-align: right;\n",
       "    }\n",
       "</style>\n",
       "<table border=\"1\" class=\"dataframe\">\n",
       "  <thead>\n",
       "    <tr style=\"text-align: right;\">\n",
       "      <th></th>\n",
       "      <th>0</th>\n",
       "      <th>1</th>\n",
       "      <th>2</th>\n",
       "      <th>3</th>\n",
       "      <th>4</th>\n",
       "      <th>5</th>\n",
       "      <th>6</th>\n",
       "      <th>7</th>\n",
       "      <th>8</th>\n",
       "      <th>9</th>\n",
       "      <th>...</th>\n",
       "      <th>490</th>\n",
       "      <th>491</th>\n",
       "      <th>492</th>\n",
       "      <th>493</th>\n",
       "      <th>494</th>\n",
       "      <th>495</th>\n",
       "      <th>496</th>\n",
       "      <th>497</th>\n",
       "      <th>498</th>\n",
       "      <th>499</th>\n",
       "    </tr>\n",
       "  </thead>\n",
       "  <tbody>\n",
       "    <tr>\n",
       "      <th>7560</th>\n",
       "      <td>2.04276</td>\n",
       "      <td>6.41609</td>\n",
       "      <td>1.22271</td>\n",
       "      <td>4.645346</td>\n",
       "      <td>2.182805</td>\n",
       "      <td>2.628213</td>\n",
       "      <td>2.732759</td>\n",
       "      <td>1.36143</td>\n",
       "      <td>1.104584</td>\n",
       "      <td>2.761755</td>\n",
       "      <td>...</td>\n",
       "      <td>6.774681</td>\n",
       "      <td>2.595735</td>\n",
       "      <td>5.028175</td>\n",
       "      <td>3.71264</td>\n",
       "      <td>4.16173</td>\n",
       "      <td>4.011103</td>\n",
       "      <td>4.744915</td>\n",
       "      <td>3.108031</td>\n",
       "      <td>2.4828</td>\n",
       "      <td>2.534748</td>\n",
       "    </tr>\n",
       "  </tbody>\n",
       "</table>\n",
       "<p>1 rows × 500 columns</p>\n",
       "</div>"
      ],
      "text/plain": [
       "          0        1        2         3         4         5         6    \\\n",
       "7560  2.04276  6.41609  1.22271  4.645346  2.182805  2.628213  2.732759   \n",
       "\n",
       "          7         8         9    ...       490       491       492      493  \\\n",
       "7560  1.36143  1.104584  2.761755  ...  6.774681  2.595735  5.028175  3.71264   \n",
       "\n",
       "          494       495       496       497     498       499  \n",
       "7560  4.16173  4.011103  4.744915  3.108031  2.4828  2.534748  \n",
       "\n",
       "[1 rows x 500 columns]"
      ]
     },
     "execution_count": 52,
     "metadata": {},
     "output_type": "execute_result"
    }
   ],
   "source": [
    "# Select the last row for the cumulative returns (cumulative returns at 30 years)\n",
    "# YOUR CODE HERE\n",
    "ending_cumulative_returns = monte_carlo.iloc[-1:]\n",
    "ending_cumulative_returns"
   ]
  },
  {
   "cell_type": "code",
   "execution_count": 58,
   "metadata": {},
   "outputs": [
    {
     "data": {
      "text/html": [
       "<div>\n",
       "<style scoped>\n",
       "    .dataframe tbody tr th:only-of-type {\n",
       "        vertical-align: middle;\n",
       "    }\n",
       "\n",
       "    .dataframe tbody tr th {\n",
       "        vertical-align: top;\n",
       "    }\n",
       "\n",
       "    .dataframe thead th {\n",
       "        text-align: right;\n",
       "    }\n",
       "</style>\n",
       "<table border=\"1\" class=\"dataframe\">\n",
       "  <thead>\n",
       "    <tr style=\"text-align: right;\">\n",
       "      <th></th>\n",
       "      <th>0</th>\n",
       "      <th>1</th>\n",
       "      <th>2</th>\n",
       "      <th>3</th>\n",
       "      <th>4</th>\n",
       "      <th>5</th>\n",
       "      <th>6</th>\n",
       "      <th>7</th>\n",
       "      <th>8</th>\n",
       "      <th>9</th>\n",
       "      <th>...</th>\n",
       "      <th>490</th>\n",
       "      <th>491</th>\n",
       "      <th>492</th>\n",
       "      <th>493</th>\n",
       "      <th>494</th>\n",
       "      <th>495</th>\n",
       "      <th>496</th>\n",
       "      <th>497</th>\n",
       "      <th>498</th>\n",
       "      <th>499</th>\n",
       "    </tr>\n",
       "  </thead>\n",
       "  <tbody>\n",
       "    <tr>\n",
       "      <th>5041</th>\n",
       "      <td>1.911218</td>\n",
       "      <td>2.881544</td>\n",
       "      <td>0.747492</td>\n",
       "      <td>2.293125</td>\n",
       "      <td>1.374069</td>\n",
       "      <td>1.319834</td>\n",
       "      <td>2.129110</td>\n",
       "      <td>0.802708</td>\n",
       "      <td>1.131985</td>\n",
       "      <td>1.308675</td>\n",
       "      <td>...</td>\n",
       "      <td>3.800079</td>\n",
       "      <td>1.419612</td>\n",
       "      <td>2.777111</td>\n",
       "      <td>2.310260</td>\n",
       "      <td>2.291254</td>\n",
       "      <td>2.338352</td>\n",
       "      <td>2.454427</td>\n",
       "      <td>2.581771</td>\n",
       "      <td>1.638647</td>\n",
       "      <td>2.456868</td>\n",
       "    </tr>\n",
       "    <tr>\n",
       "      <th>5042</th>\n",
       "      <td>1.904208</td>\n",
       "      <td>2.883181</td>\n",
       "      <td>0.749067</td>\n",
       "      <td>2.293359</td>\n",
       "      <td>1.373184</td>\n",
       "      <td>1.328050</td>\n",
       "      <td>2.114233</td>\n",
       "      <td>0.793600</td>\n",
       "      <td>1.139122</td>\n",
       "      <td>1.298603</td>\n",
       "      <td>...</td>\n",
       "      <td>3.837339</td>\n",
       "      <td>1.412756</td>\n",
       "      <td>2.793501</td>\n",
       "      <td>2.322377</td>\n",
       "      <td>2.293523</td>\n",
       "      <td>2.359703</td>\n",
       "      <td>2.458612</td>\n",
       "      <td>2.587634</td>\n",
       "      <td>1.620517</td>\n",
       "      <td>2.466547</td>\n",
       "    </tr>\n",
       "    <tr>\n",
       "      <th>5043</th>\n",
       "      <td>1.901082</td>\n",
       "      <td>2.878033</td>\n",
       "      <td>0.755136</td>\n",
       "      <td>2.319883</td>\n",
       "      <td>1.382657</td>\n",
       "      <td>1.346248</td>\n",
       "      <td>2.110029</td>\n",
       "      <td>0.795940</td>\n",
       "      <td>1.138419</td>\n",
       "      <td>1.300633</td>\n",
       "      <td>...</td>\n",
       "      <td>3.862690</td>\n",
       "      <td>1.416415</td>\n",
       "      <td>2.793656</td>\n",
       "      <td>2.321594</td>\n",
       "      <td>2.266504</td>\n",
       "      <td>2.416311</td>\n",
       "      <td>2.475293</td>\n",
       "      <td>2.589780</td>\n",
       "      <td>1.642281</td>\n",
       "      <td>2.474043</td>\n",
       "    </tr>\n",
       "    <tr>\n",
       "      <th>5044</th>\n",
       "      <td>1.920581</td>\n",
       "      <td>2.881713</td>\n",
       "      <td>0.754263</td>\n",
       "      <td>2.334726</td>\n",
       "      <td>1.381791</td>\n",
       "      <td>1.343475</td>\n",
       "      <td>2.119955</td>\n",
       "      <td>0.793524</td>\n",
       "      <td>1.134592</td>\n",
       "      <td>1.286295</td>\n",
       "      <td>...</td>\n",
       "      <td>3.867312</td>\n",
       "      <td>1.409164</td>\n",
       "      <td>2.822162</td>\n",
       "      <td>2.318843</td>\n",
       "      <td>2.277912</td>\n",
       "      <td>2.413923</td>\n",
       "      <td>2.497571</td>\n",
       "      <td>2.586988</td>\n",
       "      <td>1.630433</td>\n",
       "      <td>2.472168</td>\n",
       "    </tr>\n",
       "    <tr>\n",
       "      <th>5045</th>\n",
       "      <td>1.900306</td>\n",
       "      <td>2.886278</td>\n",
       "      <td>0.754167</td>\n",
       "      <td>2.318609</td>\n",
       "      <td>1.367811</td>\n",
       "      <td>1.331820</td>\n",
       "      <td>2.105604</td>\n",
       "      <td>0.794361</td>\n",
       "      <td>1.137321</td>\n",
       "      <td>1.304863</td>\n",
       "      <td>...</td>\n",
       "      <td>3.891006</td>\n",
       "      <td>1.389973</td>\n",
       "      <td>2.846079</td>\n",
       "      <td>2.294188</td>\n",
       "      <td>2.282785</td>\n",
       "      <td>2.419164</td>\n",
       "      <td>2.522408</td>\n",
       "      <td>2.573724</td>\n",
       "      <td>1.623435</td>\n",
       "      <td>2.487200</td>\n",
       "    </tr>\n",
       "  </tbody>\n",
       "</table>\n",
       "<p>5 rows × 500 columns</p>\n",
       "</div>"
      ],
      "text/plain": [
       "           0         1         2         3         4         5         6    \\\n",
       "5041  1.911218  2.881544  0.747492  2.293125  1.374069  1.319834  2.129110   \n",
       "5042  1.904208  2.883181  0.749067  2.293359  1.373184  1.328050  2.114233   \n",
       "5043  1.901082  2.878033  0.755136  2.319883  1.382657  1.346248  2.110029   \n",
       "5044  1.920581  2.881713  0.754263  2.334726  1.381791  1.343475  2.119955   \n",
       "5045  1.900306  2.886278  0.754167  2.318609  1.367811  1.331820  2.105604   \n",
       "\n",
       "           7         8         9    ...       490       491       492  \\\n",
       "5041  0.802708  1.131985  1.308675  ...  3.800079  1.419612  2.777111   \n",
       "5042  0.793600  1.139122  1.298603  ...  3.837339  1.412756  2.793501   \n",
       "5043  0.795940  1.138419  1.300633  ...  3.862690  1.416415  2.793656   \n",
       "5044  0.793524  1.134592  1.286295  ...  3.867312  1.409164  2.822162   \n",
       "5045  0.794361  1.137321  1.304863  ...  3.891006  1.389973  2.846079   \n",
       "\n",
       "           493       494       495       496       497       498       499  \n",
       "5041  2.310260  2.291254  2.338352  2.454427  2.581771  1.638647  2.456868  \n",
       "5042  2.322377  2.293523  2.359703  2.458612  2.587634  1.620517  2.466547  \n",
       "5043  2.321594  2.266504  2.416311  2.475293  2.589780  1.642281  2.474043  \n",
       "5044  2.318843  2.277912  2.413923  2.497571  2.586988  1.630433  2.472168  \n",
       "5045  2.294188  2.282785  2.419164  2.522408  2.573724  1.623435  2.487200  \n",
       "\n",
       "[5 rows x 500 columns]"
      ]
     },
     "execution_count": 58,
     "metadata": {},
     "output_type": "execute_result"
    }
   ],
   "source": [
    "# Select the last row for the cumulative returns (cumulative returns at 20 years)\n",
    "# YOUR CODE HERE\n",
    "ending_cumulative_returns = monte_carlo.iloc[-2520:]\n",
    "ending_cumulative_returns.head()"
   ]
  },
  {
   "cell_type": "code",
   "execution_count": 41,
   "metadata": {},
   "outputs": [
    {
     "data": {
      "text/plain": [
       "0.1    1.076957\n",
       "0.9    3.505585\n",
       "Name: 5041, dtype: float64"
      ]
     },
     "execution_count": 41,
     "metadata": {},
     "output_type": "execute_result"
    }
   ],
   "source": [
    "# Display the 90% confidence interval for the ending returns\n",
    "# YOUR CODE HERE\n",
    "confidence_interval = ending_cumulative_returns.quantile(q=[0.1, 0.90])\n",
    "confidence_interval"
   ]
  },
  {
   "cell_type": "code",
   "execution_count": 42,
   "metadata": {},
   "outputs": [
    {
     "data": {
      "text/plain": [
       "<matplotlib.lines.Line2D at 0x27d3b5988d0>"
      ]
     },
     "execution_count": 42,
     "metadata": {},
     "output_type": "execute_result"
    },
    {
     "data": {
      "image/png": "[encoded data removed]",
      "text/plain": [
       "<Figure size 432x288 with 1 Axes>"
      ]
     },
     "metadata": {
      "needs_background": "light"
     },
     "output_type": "display_data"
    }
   ],
   "source": [
    "# Visualize the distribution of the ending returns\n",
    "# YOUR CODE HERE\n",
    "plt.figure();\n",
    "ending_cumulative_returns.plot(kind='hist', density=True, bins=10)\n",
    "plt.axvline(confidence_interval.iloc[0], color='r')\n",
    "plt.axvline(confidence_interval.iloc[1], color='r')"
   ]
  },
  {
   "cell_type": "markdown",
   "metadata": {},
   "source": [
    "---"
   ]
  },
  {
   "cell_type": "markdown",
   "metadata": {},
   "source": [
    "# Retirement Analysis\n",
    "\n",
    "In this section, you will use the monte carlo model to answer the following retirement planning questions:\n",
    "\n",
    "1. What are the expected cumulative returns at 30 years for the 10th, 50th, and 90th percentiles?\n",
    "2. Given an initial investment of `$20,000`, what is the expected portfolio return in dollars at the 10th, 50th, and 90th percentiles?\n",
    "3. Given the current projected annual income from the Plaid analysis, will a 4% withdraw rate from the retirement portfolio meet or exceed that value at the 10th percentile?\n",
    "4. How would a 50% increase in the initial investment amount affect the 4% retirement withdrawal?"
   ]
  },
  {
   "cell_type": "markdown",
   "metadata": {},
   "source": [
    "### What are the expected cumulative returns at 30 years for the 10th, 50th, and 90th percentiles?"
   ]
  },
  {
   "cell_type": "code",
   "execution_count": 60,
   "metadata": {},
   "outputs": [
    {
     "name": "stdout",
     "output_type": "stream",
     "text": [
      "Expected cumulative portfolio return at 30 years for the 10th percentile is 1.18.\n",
      "Expected cumulative portfolio return at 30 years for the 50th percentile is 2.31.\n",
      "Expected cumulative portfolio return at 30 years for the 90th percentile is 4.48.\n"
     ]
    }
   ],
   "source": [
    "# YOUR CODE HERE\n",
    "print(f\"Expected cumulative portfolio return at 30 years for the 10th percentile is {round(np.percentile(ending_cumulative_returns,10),2)}.\")\n",
    "print(f\"Expected cumulative portfolio return at 30 years for the 50th percentile is {round(np.percentile(ending_cumulative_returns,50),2)}.\")\n",
    "print(f\"Expected cumulative portfolio return at 30 years for the 90th percentile is {round(np.percentile(ending_cumulative_returns,90),2)}.\")"
   ]
  },
  {
   "cell_type": "markdown",
   "metadata": {},
   "source": [
    "### Given an initial investment of `$20,000`, what is the expected portfolio return in dollars at the 10th, 50th, and 90th percentiles?"
   ]
  },
  {
   "cell_type": "code",
   "execution_count": 62,
   "metadata": {},
   "outputs": [
    {
     "name": "stdout",
     "output_type": "stream",
     "text": [
      "Expected portfolio return in dollars at the 10th percentile is $23621.99.\n",
      "Expected portfolio return in dollars at the 50th percentile is $46278.87.\n",
      "Expected portfolio return in dollars at the 90th percentile is $89622.84.\n"
     ]
    }
   ],
   "source": [
    "# YOUR CODE HERE\n",
    "initial_investment = 20000\n",
    "cumulative_pnl = initial_investment * ending_cumulative_returns\n",
    "print(f\"Expected portfolio return in dollars at the 10th percentile is ${round(np.percentile(cumulative_pnl,10),2)}.\")\n",
    "print(f\"Expected portfolio return in dollars at the 50th percentile is ${round(np.percentile(cumulative_pnl,50),2)}.\")\n",
    "print(f\"Expected portfolio return in dollars at the 90th percentile is ${round(np.percentile(cumulative_pnl,90),2)}.\")"
   ]
  },
  {
   "cell_type": "markdown",
   "metadata": {},
   "source": [
    "### Given the current projected annual income from the Plaid analysis, will a 4% withdraw rate from the retirement portfolio meet or exceed that value at the 10th percentile?\n",
    "\n",
    "Note: This is effectively saying that 90% of the expected returns will be greater than the return at the 10th percentile, so this can help measure the uncertainty about having enough funds at retirement"
   ]
  },
  {
   "cell_type": "code",
   "execution_count": 45,
   "metadata": {},
   "outputs": [
    {
     "name": "stdout",
     "output_type": "stream",
     "text": [
      "4% withdraw is not sufficient to cover the projected annual income\n"
     ]
    }
   ],
   "source": [
    "# YOUR CODE HERE\n",
    "withdraw = 0.04*(round(np.percentile(ending_cumulative_returns,10),2))\n",
    "projected_yearly_income = 7389\n",
    "if withdraw >= projected_yearly_income:\n",
    "   print(\"4% withdraw is sufficient to cover the projected annual income\")\n",
    "else:\n",
    "   print(\"4% withdraw is not sufficient to cover the projected annual income\")"
   ]
  },
  {
   "cell_type": "markdown",
   "metadata": {},
   "source": [
    "### How would a 50% increase in the initial investment amount affect the 4% retirement withdrawal?"
   ]
  },
  {
   "cell_type": "code",
   "execution_count": 46,
   "metadata": {},
   "outputs": [
    {
     "name": "stdout",
     "output_type": "stream",
     "text": [
      "4% withdraw is not sufficient to cover the projected annual income\n"
     ]
    }
   ],
   "source": [
    "# YOUR CODE HERE\n",
    "withdraw = 0.04*(round(np.percentile(ending_cumulative_returns,10),2))\n",
    "projected_yearly_income_2 = 7389 * 1.50\n",
    "if withdraw >= projected_yearly_income:\n",
    "  print(\"4% withdraw is sufficient to cover the projected annual income\")\n",
    "else:\n",
    "  print(\"4% withdraw is not sufficient to cover the projected annual income\")"
   ]
  },
  {
   "cell_type": "code",
   "execution_count": null,
   "metadata": {},
   "outputs": [],
   "source": []
  },
  {
   "cell_type": "markdown",
   "metadata": {},
   "source": [
    "### Optional Challenge\n",
    "\n",
    "In this section, you will calculate and plot the cumulative returns for the median and 90% confidence intervals. This plot shows the expected cumulative returns for any given day between the first day and the last day of investment. "
   ]
  },
  {
   "cell_type": "code",
   "execution_count": null,
   "metadata": {},
   "outputs": [],
   "source": [
    "# YOUR CODE HERE"
   ]
  }
 ],
 "metadata": {
  "kernel_info": {
   "name": "dev"
  },
  "kernelspec": {
   "display_name": "Python 3",
   "language": "python",
   "name": "python3"
  },
  "language_info": {
   "codemirror_mode": {
    "name": "ipython",
    "version": 3
   },
   "file_extension": ".py",
   "mimetype": "text/x-python",
   "name": "python",
   "nbconvert_exporter": "python",
   "pygments_lexer": "ipython3",
   "version": "3.7.3"
  },
  "nteract": {
   "version": "0.12.3"
  }
 },
 "nbformat": 4,
 "nbformat_minor": 2
}
